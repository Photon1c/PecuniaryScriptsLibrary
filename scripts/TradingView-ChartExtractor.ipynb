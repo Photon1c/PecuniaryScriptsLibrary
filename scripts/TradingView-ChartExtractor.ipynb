{
 "cells": [
  {
   "cell_type": "markdown",
   "id": "3e2e278e-0ea7-4aae-adbf-52230f22c835",
   "metadata": {},
   "source": [
    "Use Selenium To Generate TradingView Stock Chart"
   ]
  },
  {
   "cell_type": "code",
   "execution_count": null,
   "id": "37a56a19-e70a-4186-8746-482fa367d43b",
   "metadata": {},
   "outputs": [],
   "source": [
    "# Get chart\n",
    "from selenium import webdriver\n",
    "from selenium.webdriver.chrome.service import Service\n",
    "from selenium.webdriver.chrome.options import Options\n",
    "from webdriver_manager.chrome import ChromeDriverManager\n",
    "from selenium.webdriver.common.by import By\n",
    "from selenium.webdriver.common.keys import Keys\n",
    "import time\n",
    "from PIL import Image\n",
    "\n",
    "# Set up Chrome options\n",
    "chrome_options = Options()\n",
    "chrome_options.add_argument(\"--headless\")  # Run in headless mode\n",
    "chrome_options.add_argument(\"--window-size=1920x1080\")\n",
    "\n",
    "# Initialize WebDriver\n",
    "service = Service(ChromeDriverManager().install())\n",
    "driver = webdriver.Chrome(service=service, options=chrome_options)\n",
    "\n",
    "# Define the TradingView chart URL (Replace with your preferred chart)\n",
    "symbol = \"AAPL\"\n",
    "tradingview_url = f\"https://www.tradingview.com/chart/?symbol={symbol}\"\n",
    "\n",
    "# Open TradingView chart\n",
    "driver.get(tradingview_url)\n",
    "time.sleep(5)  # Wait for page to load\n",
    "\n",
    "# Screenshot the entire page\n",
    "screenshot_path = f\"{symbol}_chart.png\"\n",
    "driver.save_screenshot(screenshot_path)\n",
    "driver.quit()\n",
    "\n",
    "# Open and crop (optional)\n",
    "image = Image.open(screenshot_path)\n",
    "image.show()  # Display the image\n",
    "print(f\"Screenshot saved: {screenshot_path}\")\n"
   ]
  }
 ],
 "metadata": {
  "kernelspec": {
   "display_name": "Python 3 (ipykernel)",
   "language": "python",
   "name": "python3"
  },
  "language_info": {
   "codemirror_mode": {
    "name": "ipython",
    "version": 3
   },
   "file_extension": ".py",
   "mimetype": "text/x-python",
   "name": "python",
   "nbconvert_exporter": "python",
   "pygments_lexer": "ipython3",
   "version": "3.12.7"
  }
 },
 "nbformat": 4,
 "nbformat_minor": 5
}
